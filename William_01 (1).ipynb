{
  "cells": [
    {
      "cell_type": "markdown",
      "id": "9662031c-8c25-4e4b-9d63-acf29b0c8449",
      "metadata": {
        "id": "9662031c-8c25-4e4b-9d63-acf29b0c8449"
      },
      "source": [
        "# 1. Programming Assignment: Python Basics"
      ]
    },
    {
      "cell_type": "markdown",
      "id": "2a3984d6-14e0-446f-9229-02e10050d983",
      "metadata": {
        "id": "2a3984d6-14e0-446f-9229-02e10050d983"
      },
      "source": [
        "## List basics"
      ]
    },
    {
      "cell_type": "markdown",
      "id": "a72259ab-5b16-4dab-be0e-fde298033b6b",
      "metadata": {
        "id": "a72259ab-5b16-4dab-be0e-fde298033b6b"
      },
      "source": [
        "Given the user inputs, complete a program that does the following tasks:\n",
        "\n",
        "- Define a list, myList, containing the user inputs myFlower1, myFlower2, and myFlower3 in the same order.\n",
        "- Define a list, yourList, containing the user inputs yourFlower1 and yourFlower2 in the same order.\n",
        "- Define a list, ourList, by concatenating myList and yourList.\n",
        "- Append the user input theirFlower to the end of ourList.\n",
        "- Replace myFlower2 in ourList with theirFlower.\n",
        "- Remove the third element of ourList.\n",
        "\n",
        "Observe the output of each print statement carefully to understand what was done by each task of the program.\n",
        "\n",
        "Ex: If the input is:\n",
        "\n",
        "    rose\n",
        "    peony\n",
        "    lily\n",
        "    rose\n",
        "    daisy\n",
        "    aster\n",
        "the output is:\n",
        "    \n",
        "    ['rose', 'peony', 'lily']\n",
        "    ['rose', 'daisy']\n",
        "    ['rose', 'peony', 'lily', 'rose', 'daisy']\n",
        "    ['rose', 'peony', 'lily', 'rose', 'daisy', 'aster']\n",
        "    ['rose', 'aster', 'lily', 'rose', 'daisy', 'aster']\n",
        "    ['rose', 'aster', 'rose', 'daisy', 'aster']"
      ]
    },
    {
      "cell_type": "code",
      "execution_count": 11,
      "id": "6b3e3e84-cb5e-4ead-bfb4-e1d295f0cdcf",
      "metadata": {
        "id": "6b3e3e84-cb5e-4ead-bfb4-e1d295f0cdcf",
        "colab": {
          "base_uri": "https://localhost:8080/"
        },
        "outputId": "b424db4d-0fd1-4ba5-bb9a-7390ce7fc59d"
      },
      "outputs": [
        {
          "output_type": "stream",
          "name": "stdout",
          "text": [
            "tulip\n",
            "orchid\n",
            "sunflower\n",
            "tulip\n",
            "marigold\n",
            "lily\n",
            "['tulip', 'orchid', 'sunflower']\n",
            "['tulip', 'marigold']\n",
            "['tulip', 'orchid', 'sunflower', 'tulip', 'marigold']\n",
            "['tulip', 'orchid', 'sunflower', 'tulip', 'marigold', 'lily']\n",
            "['tulip', 'lily', 'sunflower', 'tulip', 'marigold', 'lily']\n",
            "['tulip', 'lily', 'tulip', 'marigold', 'lily']\n"
          ]
        }
      ],
      "source": [
        "myFlower1 = input()\n",
        "myFlower2 = input()\n",
        "myFlower3 = input()\n",
        "\n",
        "yourFlower1 = input()\n",
        "yourFlower2 = input()\n",
        "\n",
        "theirFlower = input()\n",
        "\n",
        "# Define myList containing myFlower1, myFlower2, and myFlower3 in that order\n",
        "myList = [myFlower1, myFlower2, myFlower3]\n",
        "print(myList)\n",
        "\n",
        "\n",
        "# Define yourList containing yourFlower1 and yourFlower2 in that order\n",
        "yourList = [yourFlower1, yourFlower2]\n",
        "print(yourList)\n",
        "\n",
        "# Define ourList by concatenating myList and yourList\n",
        "ourList = myList + yourList\n",
        "print(ourList)\n",
        "\n",
        "# Append theirFlower to the end of ourList\n",
        "ourList.append(theirFlower)\n",
        "print(ourList)\n",
        "\n",
        "# Replace myFlower2 in ourList with theirFlower\n",
        "if myFlower2 in ourList:\n",
        "    index_to_replace = ourList.index(myFlower2)\n",
        "    ourList[index_to_replace] = theirFlower\n",
        "print(ourList)\n",
        "\n",
        "# Remove the third element of ourList\n",
        "if len(ourList) > 2:\n",
        "    del ourList[2]\n",
        "print(ourList)"
      ]
    },
    {
      "cell_type": "code",
      "execution_count": null,
      "id": "1668da6e-e02b-4786-a998-bb57e820723b",
      "metadata": {
        "id": "1668da6e-e02b-4786-a998-bb57e820723b"
      },
      "outputs": [],
      "source": []
    },
    {
      "cell_type": "code",
      "execution_count": null,
      "id": "5b9e31d0-1171-4316-a9fc-8082007a7108",
      "metadata": {
        "id": "5b9e31d0-1171-4316-a9fc-8082007a7108"
      },
      "outputs": [],
      "source": []
    },
    {
      "cell_type": "markdown",
      "id": "5c9fe6ee-1fd0-4d5e-911b-d7090d16e3cb",
      "metadata": {
        "id": "5c9fe6ee-1fd0-4d5e-911b-d7090d16e3cb"
      },
      "source": [
        "## Set basics"
      ]
    },
    {
      "cell_type": "markdown",
      "id": "672fa2b5-dd57-4557-8135-89bc8fbc9ed5",
      "metadata": {
        "id": "672fa2b5-dd57-4557-8135-89bc8fbc9ed5"
      },
      "source": [
        "\n",
        "Given the user inputs, complete a program that does the following tasks:\n",
        "\n",
        "- Define a set, fruits, containing the user inputs myFruit1, myFruit2, and myFruit3.\n",
        "- Add the user input theirFruit to fruits.\n",
        "- Find the intersection of fruits and yourFruit1 and yourFruit2\n",
        "- Remove myFruit1 from fruits.\n",
        "Note: For testing purposes, sets are printed using sorted() for comparison.\n",
        "\n",
        "Ex: If the input is:\n",
        "\n",
        "    apple\n",
        "    peach\n",
        "    lemon\n",
        "    apple\n",
        "    pear\n",
        "    plum\n",
        "\n",
        "the output is:\n",
        "\n",
        "    ['apple', 'lemon', 'peach']\n",
        "    ['apple', 'lemon', 'peach', 'plum']\n",
        "    ['apple']\n",
        "    ['lemon', 'peach', 'plum']"
      ]
    },
    {
      "cell_type": "code",
      "execution_count": 12,
      "id": "b20f3db1-4112-4a3c-b889-8a1d5bf8f807",
      "metadata": {
        "id": "b20f3db1-4112-4a3c-b889-8a1d5bf8f807",
        "colab": {
          "base_uri": "https://localhost:8080/"
        },
        "outputId": "ce3d39c5-6e27-4969-fa8a-a42d1480b5b2"
      },
      "outputs": [
        {
          "output_type": "stream",
          "name": "stdout",
          "text": [
            "peach\n",
            "grape\n",
            "orange\n",
            "peach\n",
            "kiwi\n",
            "mango\n",
            "['grape', 'orange', 'peach']\n",
            "['grape', 'mango', 'orange', 'peach']\n",
            "['peach']\n",
            "['grape', 'mango', 'orange']\n"
          ]
        }
      ],
      "source": [
        "myFruit1 = input()\n",
        "myFruit2 = input()\n",
        "myFruit3 = input()\n",
        "\n",
        "yourFruit1 = input()\n",
        "yourFruit2 = input()\n",
        "\n",
        "theirFruit = input()\n",
        "\n",
        "# Define a set, fruits, containing myFruit1, myFruit2, and myFruit3\n",
        "fruits = {myFruit1, myFruit2, myFruit3}\n",
        "print(sorted(fruits))\n",
        "\n",
        "# Add theirFruit to fruits\n",
        "fruits.add(theirFruit)\n",
        "print(sorted(fruits))\n",
        "\n",
        "# Find the intersection of fruits, and yourFruit1 and yourFruit2\n",
        "fruitsInter = fruits.intersection({yourFruit1, yourFruit2})\n",
        "print(sorted(fruitsInter))\n",
        "\n",
        "# Remove myFruit1 from fruits\n",
        "fruits.discard(myFruit1)\n",
        "print(sorted(fruits))"
      ]
    },
    {
      "cell_type": "code",
      "execution_count": null,
      "id": "bd19e640-3eb4-4bd6-a8c9-9af05f910e1f",
      "metadata": {
        "id": "bd19e640-3eb4-4bd6-a8c9-9af05f910e1f"
      },
      "outputs": [],
      "source": []
    },
    {
      "cell_type": "code",
      "execution_count": null,
      "id": "32eb04d7-c573-46f6-b0ae-11750a031f3f",
      "metadata": {
        "id": "32eb04d7-c573-46f6-b0ae-11750a031f3f"
      },
      "outputs": [],
      "source": []
    },
    {
      "cell_type": "code",
      "execution_count": null,
      "id": "f97a7bc0-4a0a-4de3-8a75-27a1798db981",
      "metadata": {
        "id": "f97a7bc0-4a0a-4de3-8a75-27a1798db981"
      },
      "outputs": [],
      "source": []
    },
    {
      "cell_type": "code",
      "execution_count": null,
      "id": "142d8d53-dc9d-4a2e-817b-f0f1960b1c97",
      "metadata": {
        "id": "142d8d53-dc9d-4a2e-817b-f0f1960b1c97"
      },
      "outputs": [],
      "source": []
    },
    {
      "cell_type": "code",
      "execution_count": null,
      "id": "9c7043f2-39cf-4e5d-9d1c-ac1e7e8786e5",
      "metadata": {
        "id": "9c7043f2-39cf-4e5d-9d1c-ac1e7e8786e5"
      },
      "outputs": [],
      "source": []
    },
    {
      "cell_type": "code",
      "execution_count": null,
      "id": "99867e6f-b832-41dc-82ed-c37a873de736",
      "metadata": {
        "id": "99867e6f-b832-41dc-82ed-c37a873de736"
      },
      "outputs": [],
      "source": []
    },
    {
      "cell_type": "code",
      "execution_count": null,
      "id": "ad3d814e-d6a9-4c29-99bd-5b0dd18ec0c2",
      "metadata": {
        "id": "ad3d814e-d6a9-4c29-99bd-5b0dd18ec0c2"
      },
      "outputs": [],
      "source": []
    },
    {
      "cell_type": "code",
      "execution_count": null,
      "id": "88072331-d4b0-47e6-a4ad-48d20e587d9b",
      "metadata": {
        "id": "88072331-d4b0-47e6-a4ad-48d20e587d9b"
      },
      "outputs": [],
      "source": []
    }
  ],
  "metadata": {
    "kernelspec": {
      "display_name": "Python 3 (ipykernel)",
      "language": "python",
      "name": "python3"
    },
    "language_info": {
      "codemirror_mode": {
        "name": "ipython",
        "version": 3
      },
      "file_extension": ".py",
      "mimetype": "text/x-python",
      "name": "python",
      "nbconvert_exporter": "python",
      "pygments_lexer": "ipython3",
      "version": "3.12.4"
    },
    "colab": {
      "provenance": []
    }
  },
  "nbformat": 4,
  "nbformat_minor": 5
}